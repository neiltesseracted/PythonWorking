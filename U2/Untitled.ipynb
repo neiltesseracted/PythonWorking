{
 "cells": [
  {
   "cell_type": "code",
   "execution_count": 1,
   "metadata": {
    "collapsed": false
   },
   "outputs": [
    {
     "name": "stderr",
     "output_type": "stream",
     "text": [
      "/Users/neo/anaconda/lib/python2.7/site-packages/IPython/core/interactiveshell.py:2902: DtypeWarning: Columns (0,19) have mixed types. Specify dtype option on import or set low_memory=False.\n",
      "  interactivity=interactivity, compiler=compiler, result=result)\n"
     ]
    },
    {
     "data": {
      "text/html": [
       "<table class=\"simpletable\">\n",
       "<caption>OLS Regression Results</caption>\n",
       "<tr>\n",
       "  <th>Dep. Variable:</th>        <td>int_rate</td>     <th>  R-squared:         </th>  <td>   0.012</td> \n",
       "</tr>\n",
       "<tr>\n",
       "  <th>Model:</th>                   <td>OLS</td>       <th>  Adj. R-squared:    </th>  <td>   0.012</td> \n",
       "</tr>\n",
       "<tr>\n",
       "  <th>Method:</th>             <td>Least Squares</td>  <th>  F-statistic:       </th>  <td>   1187.</td> \n",
       "</tr>\n",
       "<tr>\n",
       "  <th>Date:</th>             <td>Mon, 30 Nov 2015</td> <th>  Prob (F-statistic):</th>   <td>  0.00</td>  \n",
       "</tr>\n",
       "<tr>\n",
       "  <th>Time:</th>                 <td>17:44:14</td>     <th>  Log-Likelihood:    </th> <td>4.9899e+05</td>\n",
       "</tr>\n",
       "<tr>\n",
       "  <th>No. Observations:</th>      <td>290591</td>      <th>  AIC:               </th> <td>-9.980e+05</td>\n",
       "</tr>\n",
       "<tr>\n",
       "  <th>Df Residuals:</th>          <td>290587</td>      <th>  BIC:               </th> <td>-9.979e+05</td>\n",
       "</tr>\n",
       "<tr>\n",
       "  <th>Df Model:</th>              <td>     3</td>      <th>                     </th>      <td> </td>    \n",
       "</tr>\n",
       "<tr>\n",
       "  <th>Covariance Type:</th>      <td>nonrobust</td>    <th>                     </th>      <td> </td>    \n",
       "</tr>\n",
       "</table>\n",
       "<table class=\"simpletable\">\n",
       "<tr>\n",
       "        <td></td>           <th>coef</th>     <th>std err</th>      <th>t</th>      <th>P>|t|</th> <th>[95.0% Conf. Int.]</th> \n",
       "</tr>\n",
       "<tr>\n",
       "  <th>Intercept</th>     <td>    0.1260</td> <td>    0.000</td> <td>  452.210</td> <td> 0.000</td> <td>    0.125     0.127</td>\n",
       "</tr>\n",
       "<tr>\n",
       "  <th>annual_inc</th>    <td>-3.939e-08</td> <td> 2.58e-09</td> <td>  -15.298</td> <td> 0.000</td> <td>-4.44e-08 -3.43e-08</td>\n",
       "</tr>\n",
       "<tr>\n",
       "  <th>ho</th>            <td>    0.0032</td> <td>    0.000</td> <td>   24.384</td> <td> 0.000</td> <td>    0.003     0.003</td>\n",
       "</tr>\n",
       "<tr>\n",
       "  <th>annual_inc:ho</th> <td>-1.156e-08</td> <td> 1.38e-09</td> <td>   -8.372</td> <td> 0.000</td> <td>-1.43e-08 -8.85e-09</td>\n",
       "</tr>\n",
       "</table>\n",
       "<table class=\"simpletable\">\n",
       "<tr>\n",
       "  <th>Omnibus:</th>       <td>15178.044</td> <th>  Durbin-Watson:     </th> <td>   1.990</td> \n",
       "</tr>\n",
       "<tr>\n",
       "  <th>Prob(Omnibus):</th>  <td> 0.000</td>   <th>  Jarque-Bera (JB):  </th> <td>17775.875</td>\n",
       "</tr>\n",
       "<tr>\n",
       "  <th>Skew:</th>           <td> 0.578</td>   <th>  Prob(JB):          </th> <td>    0.00</td> \n",
       "</tr>\n",
       "<tr>\n",
       "  <th>Kurtosis:</th>       <td> 3.366</td>   <th>  Cond. No.          </th> <td>7.96e+05</td> \n",
       "</tr>\n",
       "</table>"
      ],
      "text/plain": [
       "<class 'statsmodels.iolib.summary.Summary'>\n",
       "\"\"\"\n",
       "                            OLS Regression Results                            \n",
       "==============================================================================\n",
       "Dep. Variable:               int_rate   R-squared:                       0.012\n",
       "Model:                            OLS   Adj. R-squared:                  0.012\n",
       "Method:                 Least Squares   F-statistic:                     1187.\n",
       "Date:                Mon, 30 Nov 2015   Prob (F-statistic):               0.00\n",
       "Time:                        17:44:14   Log-Likelihood:             4.9899e+05\n",
       "No. Observations:              290591   AIC:                        -9.980e+05\n",
       "Df Residuals:                  290587   BIC:                        -9.979e+05\n",
       "Df Model:                           3                                         \n",
       "Covariance Type:            nonrobust                                         \n",
       "=================================================================================\n",
       "                    coef    std err          t      P>|t|      [95.0% Conf. Int.]\n",
       "---------------------------------------------------------------------------------\n",
       "Intercept         0.1260      0.000    452.210      0.000         0.125     0.127\n",
       "annual_inc    -3.939e-08   2.58e-09    -15.298      0.000     -4.44e-08 -3.43e-08\n",
       "ho                0.0032      0.000     24.384      0.000         0.003     0.003\n",
       "annual_inc:ho -1.156e-08   1.38e-09     -8.372      0.000     -1.43e-08 -8.85e-09\n",
       "==============================================================================\n",
       "Omnibus:                    15178.044   Durbin-Watson:                   1.990\n",
       "Prob(Omnibus):                  0.000   Jarque-Bera (JB):            17775.875\n",
       "Skew:                           0.578   Prob(JB):                         0.00\n",
       "Kurtosis:                       3.366   Cond. No.                     7.96e+05\n",
       "==============================================================================\n",
       "\n",
       "Warnings:\n",
       "[1] Standard Errors assume that the covariance matrix of the errors is correctly specified.\n",
       "[2] The condition number is large, 7.96e+05. This might indicate that there are\n",
       "strong multicollinearity or other numerical problems.\n",
       "\"\"\""
      ]
     },
     "execution_count": 1,
     "metadata": {},
     "output_type": "execute_result"
    }
   ],
   "source": [
    "import pandas as pd\n",
    "import os\n",
    "import statsmodels.formula.api as smf\n",
    "import numpy as np\n",
    "import matplotlib.pyplot as plt\n",
    "from IPython.core.display import HTML\n",
    "os.chdir(os.getcwd())\n",
    "\n",
    "# download csv here\n",
    "# https://www.lendingclub.com/info/download-data.action\n",
    "# DOWNLOAD LOAN DATA: 2015 - 09/30/15\n",
    "df=pd.read_csv('../../PythonWorking_largedata/LoanStats3d.csv', skiprows=1)\n",
    "\n",
    "# get rid of NaN in annual_inc and int_rate and home_ownership\n",
    "df=df[df['annual_inc'].notnull()]\n",
    "df=df[df['int_rate'].notnull()]\n",
    "df=df[df['home_ownership'].notnull()]\n",
    "\n",
    "df=pd.DataFrame(df, columns=['int_rate', 'annual_inc', 'home_ownership'])\n",
    "df.int_rate = df['int_rate'].map(lambda x: round(float(x.rstrip('%'))/100, 4))\n",
    "df['ho'] = pd.Categorical(df.home_ownership).codes\n",
    "\n",
    "est1 = smf.ols(formula=\"int_rate ~ annual_inc\", data=df).fit()\n",
    "est2 = smf.ols(formula=\"int_rate ~ annual_inc + ho\", data=df).fit()\n",
    "est3 = smf.ols(formula=\"int_rate ~ annual_inc * ho\", data=df).fit()\n",
    "est1.summary().tables[1].as_html()\n",
    "est2.summary()\n",
    "est3.summary()\n"
   ]
  },
  {
   "cell_type": "code",
   "execution_count": 2,
   "metadata": {
    "collapsed": false
   },
   "outputs": [
    {
     "data": {
      "text/html": [
       "<table class=\"simpletable\">\n",
       "<tr>\n",
       "       <td></td>         <th>coef</th>     <th>std err</th>      <th>t</th>      <th>P>|t|</th> <th>[95.0% Conf. Int.]</th> \n",
       "</tr>\n",
       "<tr>\n",
       "  <th>Intercept</th>  <td>    0.1324</td> <td>    0.000</td> <td> 1078.655</td> <td> 0.000</td> <td>    0.132     0.133</td>\n",
       "</tr>\n",
       "<tr>\n",
       "  <th>annual_inc</th> <td>-6.335e-08</td> <td> 1.21e-09</td> <td>  -52.207</td> <td> 0.000</td> <td>-6.57e-08  -6.1e-08</td>\n",
       "</tr>\n",
       "</table>"
      ],
      "text/plain": [
       "<IPython.core.display.HTML object>"
      ]
     },
     "execution_count": 2,
     "metadata": {},
     "output_type": "execute_result"
    }
   ],
   "source": [
    "HTML(est1.summary().tables[1].as_html())\n",
    "\n"
   ]
  },
  {
   "cell_type": "code",
   "execution_count": null,
   "metadata": {
    "collapsed": true
   },
   "outputs": [],
   "source": []
  }
 ],
 "metadata": {
  "kernelspec": {
   "display_name": "Python 2",
   "language": "python",
   "name": "python2"
  },
  "language_info": {
   "codemirror_mode": {
    "name": "ipython",
    "version": 2
   },
   "file_extension": ".py",
   "mimetype": "text/x-python",
   "name": "python",
   "nbconvert_exporter": "python",
   "pygments_lexer": "ipython2",
   "version": "2.7.10"
  }
 },
 "nbformat": 4,
 "nbformat_minor": 0
}
